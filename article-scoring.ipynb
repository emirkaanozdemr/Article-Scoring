{
 "cells": [
  {
   "cell_type": "markdown",
   "id": "01ce5053",
   "metadata": {},
   "source": [
    "# Scoring Articles"
   ]
  },
  {
   "cell_type": "markdown",
   "id": "f8216ea4",
   "metadata": {},
   "source": [
    "In this project I will try to score three articles. I will use a neural network model from Keras. Let's start."
   ]
  },
  {
   "cell_type": "markdown",
   "id": "938830dc",
   "metadata": {},
   "source": [
    "#### Overview From Kaggle\n",
    "The first automated essay scoring competition to tackle automated grading of student-written essays was twelve years ago. How far have we come from this initial competition? With an updated dataset and light years of new ideas we hope to see if we can get to the latest in automated grading to provide a real impact to overtaxed teachers who continue to have challenges with providing timely feedback, especially in underserved communities.\n",
    "<br><br>\n",
    "The goal of this competition is to train a model to score student essays. Your efforts are needed to reduce the high expense and time required to hand grade these essays. Reliable automated techniques could allow essays to be introduced in testing, a key indicator of student learning that is currently commonly avoided due to the challenges in grading."
   ]
  },
  {
   "cell_type": "markdown",
   "id": "1e5527ac",
   "metadata": {},
   "source": [
    "Original Version of the <a href=\"https://www.kaggle.com/competitions/learning-agency-lab-automated-essay-scoring-2\">Competition</a>"
   ]
  },
  {
   "cell_type": "code",
   "execution_count": 1,
   "id": "e7397d3f",
   "metadata": {
    "_cell_guid": "b1076dfc-b9ad-4769-8c92-a6c4dae69d19",
    "_uuid": "8f2839f25d086af736a60e9eeb907d3b93b6e0e5",
    "execution": {
     "iopub.execute_input": "2024-05-25T15:54:49.180448Z",
     "iopub.status.busy": "2024-05-25T15:54:49.179638Z",
     "iopub.status.idle": "2024-05-25T15:54:50.211635Z",
     "shell.execute_reply": "2024-05-25T15:54:50.210489Z"
    },
    "papermill": {
     "duration": 1.050431,
     "end_time": "2024-05-25T15:54:50.214615",
     "exception": false,
     "start_time": "2024-05-25T15:54:49.164184",
     "status": "completed"
    },
    "tags": []
   },
   "outputs": [
    {
     "name": "stdout",
     "output_type": "stream",
     "text": [
      "/kaggle/input/learning-agency-lab-automated-essay-scoring-2/sample_submission.csv\n",
      "/kaggle/input/learning-agency-lab-automated-essay-scoring-2/train.csv\n",
      "/kaggle/input/learning-agency-lab-automated-essay-scoring-2/test.csv\n"
     ]
    }
   ],
   "source": [
    "# This Python 3 environment comes with many helpful analytics libraries installed\n",
    "# It is defined by the kaggle/python Docker image: https://github.com/kaggle/docker-python\n",
    "# For example, here's several helpful packages to load\n",
    "\n",
    "import numpy as np # linear algebra\n",
    "import pandas as pd # data processing, CSV file I/O (e.g. pd.read_csv)\n",
    "\n",
    "# Input data files are available in the read-only \"../input/\" directory\n",
    "# For example, running this (by clicking run or pressing Shift+Enter) will list all files under the input directory\n",
    "\n",
    "import os\n",
    "for dirname, _, filenames in os.walk('/kaggle/input'):\n",
    "    for filename in filenames:\n",
    "        print(os.path.join(dirname, filename))\n",
    "\n",
    "# You can write up to 20GB to the current directory (/kaggle/working/) that gets preserved as output when you create a version using \"Save & Run All\" \n",
    "# You can also write temporary files to /kaggle/temp/, but they won't be saved outside of the current session"
   ]
  },
  {
   "cell_type": "code",
   "execution_count": 2,
   "id": "202d4438",
   "metadata": {
    "execution": {
     "iopub.execute_input": "2024-05-25T15:54:50.235272Z",
     "iopub.status.busy": "2024-05-25T15:54:50.234748Z",
     "iopub.status.idle": "2024-05-25T15:54:51.134991Z",
     "shell.execute_reply": "2024-05-25T15:54:51.133926Z"
    },
    "papermill": {
     "duration": 0.913966,
     "end_time": "2024-05-25T15:54:51.137880",
     "exception": false,
     "start_time": "2024-05-25T15:54:50.223914",
     "status": "completed"
    },
    "tags": []
   },
   "outputs": [],
   "source": [
    "ss=pd.read_csv(\"/kaggle/input/learning-agency-lab-automated-essay-scoring-2/sample_submission.csv\")\n",
    "test=pd.read_csv(\"/kaggle/input/learning-agency-lab-automated-essay-scoring-2/test.csv\")\n",
    "train=pd.read_csv(\"/kaggle/input/learning-agency-lab-automated-essay-scoring-2/train.csv\")"
   ]
  },
  {
   "cell_type": "code",
   "execution_count": 3,
   "id": "eaf44bf1",
   "metadata": {
    "execution": {
     "iopub.execute_input": "2024-05-25T15:54:51.158677Z",
     "iopub.status.busy": "2024-05-25T15:54:51.158177Z",
     "iopub.status.idle": "2024-05-25T15:54:51.180169Z",
     "shell.execute_reply": "2024-05-25T15:54:51.178905Z"
    },
    "papermill": {
     "duration": 0.035129,
     "end_time": "2024-05-25T15:54:51.182802",
     "exception": false,
     "start_time": "2024-05-25T15:54:51.147673",
     "status": "completed"
    },
    "tags": []
   },
   "outputs": [
    {
     "data": {
      "text/html": [
       "<div>\n",
       "<style scoped>\n",
       "    .dataframe tbody tr th:only-of-type {\n",
       "        vertical-align: middle;\n",
       "    }\n",
       "\n",
       "    .dataframe tbody tr th {\n",
       "        vertical-align: top;\n",
       "    }\n",
       "\n",
       "    .dataframe thead th {\n",
       "        text-align: right;\n",
       "    }\n",
       "</style>\n",
       "<table border=\"1\" class=\"dataframe\">\n",
       "  <thead>\n",
       "    <tr style=\"text-align: right;\">\n",
       "      <th></th>\n",
       "      <th>essay_id</th>\n",
       "      <th>full_text</th>\n",
       "      <th>score</th>\n",
       "    </tr>\n",
       "  </thead>\n",
       "  <tbody>\n",
       "    <tr>\n",
       "      <th>0</th>\n",
       "      <td>000d118</td>\n",
       "      <td>Many people have car where they live. The thin...</td>\n",
       "      <td>3</td>\n",
       "    </tr>\n",
       "    <tr>\n",
       "      <th>1</th>\n",
       "      <td>000fe60</td>\n",
       "      <td>I am a scientist at NASA that is discussing th...</td>\n",
       "      <td>3</td>\n",
       "    </tr>\n",
       "    <tr>\n",
       "      <th>2</th>\n",
       "      <td>001ab80</td>\n",
       "      <td>People always wish they had the same technolog...</td>\n",
       "      <td>4</td>\n",
       "    </tr>\n",
       "    <tr>\n",
       "      <th>3</th>\n",
       "      <td>001bdc0</td>\n",
       "      <td>We all heard about Venus, the planet without a...</td>\n",
       "      <td>4</td>\n",
       "    </tr>\n",
       "    <tr>\n",
       "      <th>4</th>\n",
       "      <td>002ba53</td>\n",
       "      <td>Dear, State Senator\\n\\nThis is a letter to arg...</td>\n",
       "      <td>3</td>\n",
       "    </tr>\n",
       "  </tbody>\n",
       "</table>\n",
       "</div>"
      ],
      "text/plain": [
       "  essay_id                                          full_text  score\n",
       "0  000d118  Many people have car where they live. The thin...      3\n",
       "1  000fe60  I am a scientist at NASA that is discussing th...      3\n",
       "2  001ab80  People always wish they had the same technolog...      4\n",
       "3  001bdc0  We all heard about Venus, the planet without a...      4\n",
       "4  002ba53  Dear, State Senator\\n\\nThis is a letter to arg...      3"
      ]
     },
     "execution_count": 3,
     "metadata": {},
     "output_type": "execute_result"
    }
   ],
   "source": [
    "train.head()"
   ]
  },
  {
   "cell_type": "code",
   "execution_count": 4,
   "id": "fc92af54",
   "metadata": {
    "execution": {
     "iopub.execute_input": "2024-05-25T15:54:51.204575Z",
     "iopub.status.busy": "2024-05-25T15:54:51.204174Z",
     "iopub.status.idle": "2024-05-25T15:54:51.214637Z",
     "shell.execute_reply": "2024-05-25T15:54:51.213483Z"
    },
    "papermill": {
     "duration": 0.0241,
     "end_time": "2024-05-25T15:54:51.217173",
     "exception": false,
     "start_time": "2024-05-25T15:54:51.193073",
     "status": "completed"
    },
    "tags": []
   },
   "outputs": [
    {
     "data": {
      "text/html": [
       "<div>\n",
       "<style scoped>\n",
       "    .dataframe tbody tr th:only-of-type {\n",
       "        vertical-align: middle;\n",
       "    }\n",
       "\n",
       "    .dataframe tbody tr th {\n",
       "        vertical-align: top;\n",
       "    }\n",
       "\n",
       "    .dataframe thead th {\n",
       "        text-align: right;\n",
       "    }\n",
       "</style>\n",
       "<table border=\"1\" class=\"dataframe\">\n",
       "  <thead>\n",
       "    <tr style=\"text-align: right;\">\n",
       "      <th></th>\n",
       "      <th>essay_id</th>\n",
       "      <th>full_text</th>\n",
       "    </tr>\n",
       "  </thead>\n",
       "  <tbody>\n",
       "    <tr>\n",
       "      <th>0</th>\n",
       "      <td>000d118</td>\n",
       "      <td>Many people have car where they live. The thin...</td>\n",
       "    </tr>\n",
       "    <tr>\n",
       "      <th>1</th>\n",
       "      <td>000fe60</td>\n",
       "      <td>I am a scientist at NASA that is discussing th...</td>\n",
       "    </tr>\n",
       "    <tr>\n",
       "      <th>2</th>\n",
       "      <td>001ab80</td>\n",
       "      <td>People always wish they had the same technolog...</td>\n",
       "    </tr>\n",
       "  </tbody>\n",
       "</table>\n",
       "</div>"
      ],
      "text/plain": [
       "  essay_id                                          full_text\n",
       "0  000d118  Many people have car where they live. The thin...\n",
       "1  000fe60  I am a scientist at NASA that is discussing th...\n",
       "2  001ab80  People always wish they had the same technolog..."
      ]
     },
     "execution_count": 4,
     "metadata": {},
     "output_type": "execute_result"
    }
   ],
   "source": [
    "test.head()"
   ]
  },
  {
   "cell_type": "code",
   "execution_count": 5,
   "id": "e65d4f18",
   "metadata": {
    "execution": {
     "iopub.execute_input": "2024-05-25T15:54:51.239099Z",
     "iopub.status.busy": "2024-05-25T15:54:51.238283Z",
     "iopub.status.idle": "2024-05-25T15:54:51.248990Z",
     "shell.execute_reply": "2024-05-25T15:54:51.247864Z"
    },
    "papermill": {
     "duration": 0.024586,
     "end_time": "2024-05-25T15:54:51.251576",
     "exception": false,
     "start_time": "2024-05-25T15:54:51.226990",
     "status": "completed"
    },
    "tags": []
   },
   "outputs": [
    {
     "data": {
      "text/html": [
       "<div>\n",
       "<style scoped>\n",
       "    .dataframe tbody tr th:only-of-type {\n",
       "        vertical-align: middle;\n",
       "    }\n",
       "\n",
       "    .dataframe tbody tr th {\n",
       "        vertical-align: top;\n",
       "    }\n",
       "\n",
       "    .dataframe thead th {\n",
       "        text-align: right;\n",
       "    }\n",
       "</style>\n",
       "<table border=\"1\" class=\"dataframe\">\n",
       "  <thead>\n",
       "    <tr style=\"text-align: right;\">\n",
       "      <th></th>\n",
       "      <th>essay_id</th>\n",
       "      <th>score</th>\n",
       "    </tr>\n",
       "  </thead>\n",
       "  <tbody>\n",
       "    <tr>\n",
       "      <th>0</th>\n",
       "      <td>000d118</td>\n",
       "      <td>3</td>\n",
       "    </tr>\n",
       "    <tr>\n",
       "      <th>1</th>\n",
       "      <td>000fe60</td>\n",
       "      <td>3</td>\n",
       "    </tr>\n",
       "    <tr>\n",
       "      <th>2</th>\n",
       "      <td>001ab80</td>\n",
       "      <td>4</td>\n",
       "    </tr>\n",
       "  </tbody>\n",
       "</table>\n",
       "</div>"
      ],
      "text/plain": [
       "  essay_id  score\n",
       "0  000d118      3\n",
       "1  000fe60      3\n",
       "2  001ab80      4"
      ]
     },
     "execution_count": 5,
     "metadata": {},
     "output_type": "execute_result"
    }
   ],
   "source": [
    "ss.head()"
   ]
  },
  {
   "cell_type": "code",
   "execution_count": 6,
   "id": "601bcff7",
   "metadata": {
    "execution": {
     "iopub.execute_input": "2024-05-25T15:54:51.274138Z",
     "iopub.status.busy": "2024-05-25T15:54:51.273139Z",
     "iopub.status.idle": "2024-05-25T15:54:51.280436Z",
     "shell.execute_reply": "2024-05-25T15:54:51.279350Z"
    },
    "papermill": {
     "duration": 0.021274,
     "end_time": "2024-05-25T15:54:51.282760",
     "exception": false,
     "start_time": "2024-05-25T15:54:51.261486",
     "status": "completed"
    },
    "tags": []
   },
   "outputs": [
    {
     "data": {
      "text/plain": [
       "(17307, 3)"
      ]
     },
     "execution_count": 6,
     "metadata": {},
     "output_type": "execute_result"
    }
   ],
   "source": [
    "train.shape"
   ]
  },
  {
   "cell_type": "markdown",
   "id": "1c6a1869",
   "metadata": {},
   "source": [
    "# Feature Engineering"
   ]
  },
  {
   "cell_type": "markdown",
   "id": "52f15a09",
   "metadata": {},
   "source": [
    "Here I make the data lower and remove the punctuations, digits and new lines. That will make it easier for me to work with the data. I make the test data too, because I will predict that data. I don't want to be influenced by the diferent thinks."
   ]
  },
  {
   "cell_type": "code",
   "execution_count": 7,
   "id": "93c697d4",
   "metadata": {
    "execution": {
     "iopub.execute_input": "2024-05-25T15:54:51.304967Z",
     "iopub.status.busy": "2024-05-25T15:54:51.304286Z",
     "iopub.status.idle": "2024-05-25T15:54:53.075344Z",
     "shell.execute_reply": "2024-05-25T15:54:53.074030Z"
    },
    "papermill": {
     "duration": 1.785459,
     "end_time": "2024-05-25T15:54:53.078320",
     "exception": false,
     "start_time": "2024-05-25T15:54:51.292861",
     "status": "completed"
    },
    "tags": []
   },
   "outputs": [],
   "source": [
    "train[\"full_text\"]=train[\"full_text\"].str.lower()\n",
    "test[\"full_text\"]=test[\"full_text\"].str.lower()\n",
    "train[\"full_text\"]=train[\"full_text\"].str.replace('[^\\w\\s]','',regex=True)\n",
    "test[\"full_text\"]=test[\"full_text\"].str.replace('[^\\w\\s]','',regex=True)\n",
    "\n",
    "train[\"full_text\"]=train[\"full_text\"].str.replace('\\d+','')\n",
    "test[\"full_text\"]=test[\"full_text\"].str.replace('\\d+','')\n",
    "\n",
    "train[\"full_text\"]=train[\"full_text\"].str.replace('\\n',' ')\n",
    "test[\"full_text\"]=test[\"full_text\"].str.replace('\\n',' ')"
   ]
  },
  {
   "cell_type": "code",
   "execution_count": 8,
   "id": "59ee36f0",
   "metadata": {
    "execution": {
     "iopub.execute_input": "2024-05-25T15:54:53.101219Z",
     "iopub.status.busy": "2024-05-25T15:54:53.100800Z",
     "iopub.status.idle": "2024-05-25T15:54:53.112371Z",
     "shell.execute_reply": "2024-05-25T15:54:53.111125Z"
    },
    "papermill": {
     "duration": 0.025375,
     "end_time": "2024-05-25T15:54:53.114984",
     "exception": false,
     "start_time": "2024-05-25T15:54:53.089609",
     "status": "completed"
    },
    "tags": []
   },
   "outputs": [
    {
     "data": {
      "text/html": [
       "<div>\n",
       "<style scoped>\n",
       "    .dataframe tbody tr th:only-of-type {\n",
       "        vertical-align: middle;\n",
       "    }\n",
       "\n",
       "    .dataframe tbody tr th {\n",
       "        vertical-align: top;\n",
       "    }\n",
       "\n",
       "    .dataframe thead th {\n",
       "        text-align: right;\n",
       "    }\n",
       "</style>\n",
       "<table border=\"1\" class=\"dataframe\">\n",
       "  <thead>\n",
       "    <tr style=\"text-align: right;\">\n",
       "      <th></th>\n",
       "      <th>essay_id</th>\n",
       "      <th>full_text</th>\n",
       "      <th>score</th>\n",
       "    </tr>\n",
       "  </thead>\n",
       "  <tbody>\n",
       "    <tr>\n",
       "      <th>0</th>\n",
       "      <td>000d118</td>\n",
       "      <td>many people have car where they live the thing...</td>\n",
       "      <td>3</td>\n",
       "    </tr>\n",
       "    <tr>\n",
       "      <th>1</th>\n",
       "      <td>000fe60</td>\n",
       "      <td>i am a scientist at nasa that is discussing th...</td>\n",
       "      <td>3</td>\n",
       "    </tr>\n",
       "    <tr>\n",
       "      <th>2</th>\n",
       "      <td>001ab80</td>\n",
       "      <td>people always wish they had the same technolog...</td>\n",
       "      <td>4</td>\n",
       "    </tr>\n",
       "    <tr>\n",
       "      <th>3</th>\n",
       "      <td>001bdc0</td>\n",
       "      <td>we all heard about venus the planet without al...</td>\n",
       "      <td>4</td>\n",
       "    </tr>\n",
       "    <tr>\n",
       "      <th>4</th>\n",
       "      <td>002ba53</td>\n",
       "      <td>dear state senator  this is a letter to argue ...</td>\n",
       "      <td>3</td>\n",
       "    </tr>\n",
       "  </tbody>\n",
       "</table>\n",
       "</div>"
      ],
      "text/plain": [
       "  essay_id                                          full_text  score\n",
       "0  000d118  many people have car where they live the thing...      3\n",
       "1  000fe60  i am a scientist at nasa that is discussing th...      3\n",
       "2  001ab80  people always wish they had the same technolog...      4\n",
       "3  001bdc0  we all heard about venus the planet without al...      4\n",
       "4  002ba53  dear state senator  this is a letter to argue ...      3"
      ]
     },
     "execution_count": 8,
     "metadata": {},
     "output_type": "execute_result"
    }
   ],
   "source": [
    "train.head()"
   ]
  },
  {
   "cell_type": "code",
   "execution_count": 9,
   "id": "d3034ff2",
   "metadata": {
    "execution": {
     "iopub.execute_input": "2024-05-25T15:54:53.138686Z",
     "iopub.status.busy": "2024-05-25T15:54:53.137519Z",
     "iopub.status.idle": "2024-05-25T15:54:53.147922Z",
     "shell.execute_reply": "2024-05-25T15:54:53.146802Z"
    },
    "papermill": {
     "duration": 0.025274,
     "end_time": "2024-05-25T15:54:53.150589",
     "exception": false,
     "start_time": "2024-05-25T15:54:53.125315",
     "status": "completed"
    },
    "tags": []
   },
   "outputs": [
    {
     "data": {
      "text/html": [
       "<div>\n",
       "<style scoped>\n",
       "    .dataframe tbody tr th:only-of-type {\n",
       "        vertical-align: middle;\n",
       "    }\n",
       "\n",
       "    .dataframe tbody tr th {\n",
       "        vertical-align: top;\n",
       "    }\n",
       "\n",
       "    .dataframe thead th {\n",
       "        text-align: right;\n",
       "    }\n",
       "</style>\n",
       "<table border=\"1\" class=\"dataframe\">\n",
       "  <thead>\n",
       "    <tr style=\"text-align: right;\">\n",
       "      <th></th>\n",
       "      <th>essay_id</th>\n",
       "      <th>full_text</th>\n",
       "    </tr>\n",
       "  </thead>\n",
       "  <tbody>\n",
       "    <tr>\n",
       "      <th>0</th>\n",
       "      <td>000d118</td>\n",
       "      <td>many people have car where they live the thing...</td>\n",
       "    </tr>\n",
       "    <tr>\n",
       "      <th>1</th>\n",
       "      <td>000fe60</td>\n",
       "      <td>i am a scientist at nasa that is discussing th...</td>\n",
       "    </tr>\n",
       "    <tr>\n",
       "      <th>2</th>\n",
       "      <td>001ab80</td>\n",
       "      <td>people always wish they had the same technolog...</td>\n",
       "    </tr>\n",
       "  </tbody>\n",
       "</table>\n",
       "</div>"
      ],
      "text/plain": [
       "  essay_id                                          full_text\n",
       "0  000d118  many people have car where they live the thing...\n",
       "1  000fe60  i am a scientist at nasa that is discussing th...\n",
       "2  001ab80  people always wish they had the same technolog..."
      ]
     },
     "execution_count": 9,
     "metadata": {},
     "output_type": "execute_result"
    }
   ],
   "source": [
    "test.head()"
   ]
  },
  {
   "cell_type": "code",
   "execution_count": 10,
   "id": "d94bff93",
   "metadata": {
    "execution": {
     "iopub.execute_input": "2024-05-25T15:54:53.175794Z",
     "iopub.status.busy": "2024-05-25T15:54:53.175365Z",
     "iopub.status.idle": "2024-05-25T15:54:55.389712Z",
     "shell.execute_reply": "2024-05-25T15:54:55.388542Z"
    },
    "papermill": {
     "duration": 2.229816,
     "end_time": "2024-05-25T15:54:55.392649",
     "exception": false,
     "start_time": "2024-05-25T15:54:53.162833",
     "status": "completed"
    },
    "tags": []
   },
   "outputs": [],
   "source": [
    "import nltk"
   ]
  },
  {
   "cell_type": "code",
   "execution_count": 11,
   "id": "ea84fd42",
   "metadata": {
    "execution": {
     "iopub.execute_input": "2024-05-25T15:54:55.415761Z",
     "iopub.status.busy": "2024-05-25T15:54:55.415340Z",
     "iopub.status.idle": "2024-05-25T15:55:15.464383Z",
     "shell.execute_reply": "2024-05-25T15:55:15.463099Z"
    },
    "papermill": {
     "duration": 20.063771,
     "end_time": "2024-05-25T15:55:15.467068",
     "exception": false,
     "start_time": "2024-05-25T15:54:55.403297",
     "status": "completed"
    },
    "tags": []
   },
   "outputs": [
    {
     "name": "stdout",
     "output_type": "stream",
     "text": [
      "[nltk_data] Error loading punkt: <urlopen error [Errno -3] Temporary\n",
      "[nltk_data]     failure in name resolution>\n"
     ]
    },
    {
     "data": {
      "text/plain": [
       "False"
      ]
     },
     "execution_count": 11,
     "metadata": {},
     "output_type": "execute_result"
    }
   ],
   "source": [
    "# Packages for English\n",
    "nltk.download(\"punkt\")"
   ]
  },
  {
   "cell_type": "markdown",
   "id": "b435888b",
   "metadata": {},
   "source": [
    "The **lemmafn** function is designed to perform lemmatization on a given text. Lemmatization is the process of reducing words to their base or root form. This is useful in natural language processing (NLP) tasks such as text analysis, text mining, and machine learning. "
   ]
  },
  {
   "cell_type": "code",
   "execution_count": 12,
   "id": "36f10603",
   "metadata": {
    "execution": {
     "iopub.execute_input": "2024-05-25T15:55:15.490560Z",
     "iopub.status.busy": "2024-05-25T15:55:15.490140Z",
     "iopub.status.idle": "2024-05-25T15:55:15.546296Z",
     "shell.execute_reply": "2024-05-25T15:55:15.544891Z"
    },
    "papermill": {
     "duration": 0.071335,
     "end_time": "2024-05-25T15:55:15.549185",
     "exception": false,
     "start_time": "2024-05-25T15:55:15.477850",
     "status": "completed"
    },
    "tags": []
   },
   "outputs": [],
   "source": [
    "from sklearn.feature_extraction.text import CountVectorizer\n",
    "from textblob import TextBlob\n",
    "from nltk.stem import PorterStemmer\n",
    "pr=PorterStemmer()\n",
    "def lemmafn(text):\n",
    "    words=TextBlob(text).words\n",
    "    return [pr.stem(word) for word in words]"
   ]
  },
  {
   "cell_type": "markdown",
   "id": "d4dde4cf",
   "metadata": {},
   "source": [
    "Here I identify my vectorizer. Stopwords are in English, range is (1,3) and max features is 100000. Also my analyzer is lemmafn."
   ]
  },
  {
   "cell_type": "code",
   "execution_count": 13,
   "id": "5a754afe",
   "metadata": {
    "execution": {
     "iopub.execute_input": "2024-05-25T15:55:15.572476Z",
     "iopub.status.busy": "2024-05-25T15:55:15.572053Z",
     "iopub.status.idle": "2024-05-25T15:55:15.578513Z",
     "shell.execute_reply": "2024-05-25T15:55:15.577156Z"
    },
    "papermill": {
     "duration": 0.021357,
     "end_time": "2024-05-25T15:55:15.581302",
     "exception": false,
     "start_time": "2024-05-25T15:55:15.559945",
     "status": "completed"
    },
    "tags": []
   },
   "outputs": [],
   "source": [
    "vect=CountVectorizer(stop_words=\"english\",ngram_range=(1,3),max_features=100000,analyzer=lemmafn)"
   ]
  },
  {
   "cell_type": "code",
   "execution_count": 14,
   "id": "55bd7b37",
   "metadata": {
    "execution": {
     "iopub.execute_input": "2024-05-25T15:55:15.604780Z",
     "iopub.status.busy": "2024-05-25T15:55:15.604310Z",
     "iopub.status.idle": "2024-05-25T15:55:15.609908Z",
     "shell.execute_reply": "2024-05-25T15:55:15.608638Z"
    },
    "papermill": {
     "duration": 0.019857,
     "end_time": "2024-05-25T15:55:15.612148",
     "exception": false,
     "start_time": "2024-05-25T15:55:15.592291",
     "status": "completed"
    },
    "tags": []
   },
   "outputs": [],
   "source": [
    "x=train[\"full_text\"]"
   ]
  },
  {
   "cell_type": "code",
   "execution_count": 15,
   "id": "c04a0c48",
   "metadata": {
    "execution": {
     "iopub.execute_input": "2024-05-25T15:55:15.635488Z",
     "iopub.status.busy": "2024-05-25T15:55:15.635075Z",
     "iopub.status.idle": "2024-05-25T16:00:12.265009Z",
     "shell.execute_reply": "2024-05-25T16:00:12.263431Z"
    },
    "papermill": {
     "duration": 296.645356,
     "end_time": "2024-05-25T16:00:12.268347",
     "exception": false,
     "start_time": "2024-05-25T15:55:15.622991",
     "status": "completed"
    },
    "tags": []
   },
   "outputs": [
    {
     "name": "stderr",
     "output_type": "stream",
     "text": [
      "/opt/conda/lib/python3.10/site-packages/sklearn/feature_extraction/text.py:544: UserWarning: The parameter 'ngram_range' will not be used since 'analyzer' is callable'\n",
      "  warnings.warn(\n",
      "/opt/conda/lib/python3.10/site-packages/sklearn/feature_extraction/text.py:550: UserWarning: The parameter 'stop_words' will not be used since 'analyzer' != 'word'\n",
      "  warnings.warn(\n"
     ]
    }
   ],
   "source": [
    "x=vect.fit_transform(x)"
   ]
  },
  {
   "cell_type": "code",
   "execution_count": 16,
   "id": "3944543f",
   "metadata": {
    "execution": {
     "iopub.execute_input": "2024-05-25T16:00:12.292168Z",
     "iopub.status.busy": "2024-05-25T16:00:12.291751Z",
     "iopub.status.idle": "2024-05-25T16:00:12.304890Z",
     "shell.execute_reply": "2024-05-25T16:00:12.303676Z"
    },
    "papermill": {
     "duration": 0.027726,
     "end_time": "2024-05-25T16:00:12.307267",
     "exception": false,
     "start_time": "2024-05-25T16:00:12.279541",
     "status": "completed"
    },
    "tags": []
   },
   "outputs": [],
   "source": [
    "d={1:0,2:1,3:2,4:3,5:4,6:5}\n",
    "train[\"score\"]=train[\"score\"].map(d)\n",
    "y=train[\"score\"]"
   ]
  },
  {
   "cell_type": "code",
   "execution_count": 17,
   "id": "a42a67e7",
   "metadata": {
    "execution": {
     "iopub.execute_input": "2024-05-25T16:00:12.331145Z",
     "iopub.status.busy": "2024-05-25T16:00:12.330718Z",
     "iopub.status.idle": "2024-05-25T16:00:12.342596Z",
     "shell.execute_reply": "2024-05-25T16:00:12.341313Z"
    },
    "papermill": {
     "duration": 0.026718,
     "end_time": "2024-05-25T16:00:12.345288",
     "exception": false,
     "start_time": "2024-05-25T16:00:12.318570",
     "status": "completed"
    },
    "tags": []
   },
   "outputs": [
    {
     "data": {
      "text/html": [
       "<div>\n",
       "<style scoped>\n",
       "    .dataframe tbody tr th:only-of-type {\n",
       "        vertical-align: middle;\n",
       "    }\n",
       "\n",
       "    .dataframe tbody tr th {\n",
       "        vertical-align: top;\n",
       "    }\n",
       "\n",
       "    .dataframe thead th {\n",
       "        text-align: right;\n",
       "    }\n",
       "</style>\n",
       "<table border=\"1\" class=\"dataframe\">\n",
       "  <thead>\n",
       "    <tr style=\"text-align: right;\">\n",
       "      <th></th>\n",
       "      <th>essay_id</th>\n",
       "      <th>full_text</th>\n",
       "      <th>score</th>\n",
       "    </tr>\n",
       "  </thead>\n",
       "  <tbody>\n",
       "    <tr>\n",
       "      <th>0</th>\n",
       "      <td>000d118</td>\n",
       "      <td>many people have car where they live the thing...</td>\n",
       "      <td>2</td>\n",
       "    </tr>\n",
       "    <tr>\n",
       "      <th>1</th>\n",
       "      <td>000fe60</td>\n",
       "      <td>i am a scientist at nasa that is discussing th...</td>\n",
       "      <td>2</td>\n",
       "    </tr>\n",
       "    <tr>\n",
       "      <th>2</th>\n",
       "      <td>001ab80</td>\n",
       "      <td>people always wish they had the same technolog...</td>\n",
       "      <td>3</td>\n",
       "    </tr>\n",
       "    <tr>\n",
       "      <th>3</th>\n",
       "      <td>001bdc0</td>\n",
       "      <td>we all heard about venus the planet without al...</td>\n",
       "      <td>3</td>\n",
       "    </tr>\n",
       "    <tr>\n",
       "      <th>4</th>\n",
       "      <td>002ba53</td>\n",
       "      <td>dear state senator  this is a letter to argue ...</td>\n",
       "      <td>2</td>\n",
       "    </tr>\n",
       "  </tbody>\n",
       "</table>\n",
       "</div>"
      ],
      "text/plain": [
       "  essay_id                                          full_text  score\n",
       "0  000d118  many people have car where they live the thing...      2\n",
       "1  000fe60  i am a scientist at nasa that is discussing th...      2\n",
       "2  001ab80  people always wish they had the same technolog...      3\n",
       "3  001bdc0  we all heard about venus the planet without al...      3\n",
       "4  002ba53  dear state senator  this is a letter to argue ...      2"
      ]
     },
     "execution_count": 17,
     "metadata": {},
     "output_type": "execute_result"
    }
   ],
   "source": [
    "train.head()"
   ]
  },
  {
   "cell_type": "markdown",
   "id": "c275661a",
   "metadata": {},
   "source": [
    "# Modelling"
   ]
  },
  {
   "cell_type": "code",
   "execution_count": 18,
   "id": "de0b656f",
   "metadata": {
    "execution": {
     "iopub.execute_input": "2024-05-25T16:00:12.370021Z",
     "iopub.status.busy": "2024-05-25T16:00:12.369573Z",
     "iopub.status.idle": "2024-05-25T16:00:12.374917Z",
     "shell.execute_reply": "2024-05-25T16:00:12.373683Z"
    },
    "papermill": {
     "duration": 0.02042,
     "end_time": "2024-05-25T16:00:12.377274",
     "exception": false,
     "start_time": "2024-05-25T16:00:12.356854",
     "status": "completed"
    },
    "tags": []
   },
   "outputs": [],
   "source": [
    "from sklearn.model_selection import train_test_split"
   ]
  },
  {
   "cell_type": "code",
   "execution_count": 19,
   "id": "38ef5504",
   "metadata": {
    "execution": {
     "iopub.execute_input": "2024-05-25T16:00:12.401305Z",
     "iopub.status.busy": "2024-05-25T16:00:12.400881Z",
     "iopub.status.idle": "2024-05-25T16:00:12.421671Z",
     "shell.execute_reply": "2024-05-25T16:00:12.420511Z"
    },
    "papermill": {
     "duration": 0.035842,
     "end_time": "2024-05-25T16:00:12.424377",
     "exception": false,
     "start_time": "2024-05-25T16:00:12.388535",
     "status": "completed"
    },
    "tags": []
   },
   "outputs": [],
   "source": [
    "x_train,x_test,y_train,y_test=train_test_split(x,y,test_size=0.2,random_state=42)"
   ]
  },
  {
   "cell_type": "code",
   "execution_count": 20,
   "id": "bfd0e584",
   "metadata": {
    "execution": {
     "iopub.execute_input": "2024-05-25T16:00:12.448101Z",
     "iopub.status.busy": "2024-05-25T16:00:12.447724Z",
     "iopub.status.idle": "2024-05-25T16:00:26.552441Z",
     "shell.execute_reply": "2024-05-25T16:00:26.550947Z"
    },
    "papermill": {
     "duration": 14.11991,
     "end_time": "2024-05-25T16:00:26.555400",
     "exception": false,
     "start_time": "2024-05-25T16:00:12.435490",
     "status": "completed"
    },
    "tags": []
   },
   "outputs": [
    {
     "name": "stderr",
     "output_type": "stream",
     "text": [
      "2024-05-25 16:00:14.631697: E external/local_xla/xla/stream_executor/cuda/cuda_dnn.cc:9261] Unable to register cuDNN factory: Attempting to register factory for plugin cuDNN when one has already been registered\n",
      "2024-05-25 16:00:14.631826: E external/local_xla/xla/stream_executor/cuda/cuda_fft.cc:607] Unable to register cuFFT factory: Attempting to register factory for plugin cuFFT when one has already been registered\n",
      "2024-05-25 16:00:14.801159: E external/local_xla/xla/stream_executor/cuda/cuda_blas.cc:1515] Unable to register cuBLAS factory: Attempting to register factory for plugin cuBLAS when one has already been registered\n"
     ]
    }
   ],
   "source": [
    "from tensorflow.keras.models import Sequential\n",
    "from tensorflow.keras.layers import Dense,Dropout"
   ]
  },
  {
   "cell_type": "code",
   "execution_count": 21,
   "id": "8589718c",
   "metadata": {
    "execution": {
     "iopub.execute_input": "2024-05-25T16:00:26.580604Z",
     "iopub.status.busy": "2024-05-25T16:00:26.579118Z",
     "iopub.status.idle": "2024-05-25T16:00:26.650901Z",
     "shell.execute_reply": "2024-05-25T16:00:26.649675Z"
    },
    "papermill": {
     "duration": 0.087859,
     "end_time": "2024-05-25T16:00:26.654369",
     "exception": false,
     "start_time": "2024-05-25T16:00:26.566510",
     "status": "completed"
    },
    "tags": []
   },
   "outputs": [],
   "source": [
    "model=Sequential()\n",
    "model.add(Dense(1000,activation=\"relu\"))\n",
    "model.add(Dropout(0.2))\n",
    "model.add(Dense(600,activation=\"relu\"))\n",
    "model.add(Dropout(0.2))\n",
    "model.add(Dense(400,activation=\"relu\"))\n",
    "model.add(Dropout(0.2))\n",
    "model.add(Dense(250,activation=\"relu\"))\n",
    "model.add(Dropout(0.2))\n",
    "model.add(Dense(6,activation=\"softmax\"))\n",
    "model.compile(optimizer=\"adam\",loss=\"sparse_categorical_crossentropy\",metrics=[\"accuracy\"])"
   ]
  },
  {
   "cell_type": "code",
   "execution_count": 22,
   "id": "7d45807b",
   "metadata": {
    "execution": {
     "iopub.execute_input": "2024-05-25T16:00:26.679008Z",
     "iopub.status.busy": "2024-05-25T16:00:26.677886Z",
     "iopub.status.idle": "2024-05-25T16:40:55.024475Z",
     "shell.execute_reply": "2024-05-25T16:40:55.023437Z"
    },
    "papermill": {
     "duration": 2428.361542,
     "end_time": "2024-05-25T16:40:55.027037",
     "exception": false,
     "start_time": "2024-05-25T16:00:26.665495",
     "status": "completed"
    },
    "tags": []
   },
   "outputs": [
    {
     "name": "stdout",
     "output_type": "stream",
     "text": [
      "Epoch 1/10\n",
      "\u001b[1m433/433\u001b[0m \u001b[32m━━━━━━━━━━━━━━━━━━━━\u001b[0m\u001b[37m\u001b[0m \u001b[1m225s\u001b[0m 505ms/step - accuracy: 0.3931 - loss: 1.3811 - val_accuracy: 0.5910 - val_loss: 0.9630\n",
      "Epoch 2/10\n",
      "\u001b[1m433/433\u001b[0m \u001b[32m━━━━━━━━━━━━━━━━━━━━\u001b[0m\u001b[37m\u001b[0m \u001b[1m262s\u001b[0m 506ms/step - accuracy: 0.6020 - loss: 0.9377 - val_accuracy: 0.6031 - val_loss: 0.9256\n",
      "Epoch 3/10\n",
      "\u001b[1m433/433\u001b[0m \u001b[32m━━━━━━━━━━━━━━━━━━━━\u001b[0m\u001b[37m\u001b[0m \u001b[1m224s\u001b[0m 516ms/step - accuracy: 0.6819 - loss: 0.7634 - val_accuracy: 0.5962 - val_loss: 0.9680\n",
      "Epoch 4/10\n",
      "\u001b[1m433/433\u001b[0m \u001b[32m━━━━━━━━━━━━━━━━━━━━\u001b[0m\u001b[37m\u001b[0m \u001b[1m222s\u001b[0m 513ms/step - accuracy: 0.7502 - loss: 0.6120 - val_accuracy: 0.5812 - val_loss: 1.0224\n",
      "Epoch 5/10\n",
      "\u001b[1m433/433\u001b[0m \u001b[32m━━━━━━━━━━━━━━━━━━━━\u001b[0m\u001b[37m\u001b[0m \u001b[1m222s\u001b[0m 512ms/step - accuracy: 0.8154 - loss: 0.4844 - val_accuracy: 0.5812 - val_loss: 1.2662\n",
      "Epoch 6/10\n",
      "\u001b[1m433/433\u001b[0m \u001b[32m━━━━━━━━━━━━━━━━━━━━\u001b[0m\u001b[37m\u001b[0m \u001b[1m261s\u001b[0m 509ms/step - accuracy: 0.8466 - loss: 0.4037 - val_accuracy: 0.5656 - val_loss: 1.2768\n",
      "Epoch 7/10\n",
      "\u001b[1m433/433\u001b[0m \u001b[32m━━━━━━━━━━━━━━━━━━━━\u001b[0m\u001b[37m\u001b[0m \u001b[1m221s\u001b[0m 510ms/step - accuracy: 0.8800 - loss: 0.3262 - val_accuracy: 0.5410 - val_loss: 1.6901\n",
      "Epoch 8/10\n",
      "\u001b[1m433/433\u001b[0m \u001b[32m━━━━━━━━━━━━━━━━━━━━\u001b[0m\u001b[37m\u001b[0m \u001b[1m263s\u001b[0m 513ms/step - accuracy: 0.8954 - loss: 0.2869 - val_accuracy: 0.5760 - val_loss: 1.5590\n",
      "Epoch 9/10\n",
      "\u001b[1m433/433\u001b[0m \u001b[32m━━━━━━━━━━━━━━━━━━━━\u001b[0m\u001b[37m\u001b[0m \u001b[1m263s\u001b[0m 515ms/step - accuracy: 0.9081 - loss: 0.2495 - val_accuracy: 0.5823 - val_loss: 1.6318\n",
      "Epoch 10/10\n",
      "\u001b[1m433/433\u001b[0m \u001b[32m━━━━━━━━━━━━━━━━━━━━\u001b[0m\u001b[37m\u001b[0m \u001b[1m266s\u001b[0m 524ms/step - accuracy: 0.9169 - loss: 0.2216 - val_accuracy: 0.5644 - val_loss: 1.9667\n"
     ]
    }
   ],
   "source": [
    "history=model.fit(x_train,y_train,epochs=10,validation_data=(x_test,y_test),batch_size=32,verbose=1)"
   ]
  },
  {
   "cell_type": "code",
   "execution_count": 23,
   "id": "a6431818",
   "metadata": {
    "execution": {
     "iopub.execute_input": "2024-05-25T16:40:55.934303Z",
     "iopub.status.busy": "2024-05-25T16:40:55.933901Z",
     "iopub.status.idle": "2024-05-25T16:40:57.006335Z",
     "shell.execute_reply": "2024-05-25T16:40:57.004853Z"
    },
    "papermill": {
     "duration": 1.51733,
     "end_time": "2024-05-25T16:40:57.009448",
     "exception": false,
     "start_time": "2024-05-25T16:40:55.492118",
     "status": "completed"
    },
    "tags": []
   },
   "outputs": [],
   "source": [
    "model.save(\"model.h5\")"
   ]
  },
  {
   "cell_type": "markdown",
   "id": "021ba2d0",
   "metadata": {},
   "source": [
    "# Predicting"
   ]
  },
  {
   "cell_type": "code",
   "execution_count": 24,
   "id": "4698733d",
   "metadata": {
    "execution": {
     "iopub.execute_input": "2024-05-25T16:40:57.888706Z",
     "iopub.status.busy": "2024-05-25T16:40:57.887271Z",
     "iopub.status.idle": "2024-05-25T16:40:58.632163Z",
     "shell.execute_reply": "2024-05-25T16:40:58.630952Z"
    },
    "papermill": {
     "duration": 1.179487,
     "end_time": "2024-05-25T16:40:58.635274",
     "exception": false,
     "start_time": "2024-05-25T16:40:57.455787",
     "status": "completed"
    },
    "tags": []
   },
   "outputs": [
    {
     "name": "stdout",
     "output_type": "stream",
     "text": [
      "\u001b[1m1/1\u001b[0m \u001b[32m━━━━━━━━━━━━━━━━━━━━\u001b[0m\u001b[37m\u001b[0m \u001b[1m0s\u001b[0m 142ms/step\n",
      "\u001b[1m1/1\u001b[0m \u001b[32m━━━━━━━━━━━━━━━━━━━━\u001b[0m\u001b[37m\u001b[0m \u001b[1m0s\u001b[0m 47ms/step\n",
      "\u001b[1m1/1\u001b[0m \u001b[32m━━━━━━━━━━━━━━━━━━━━\u001b[0m\u001b[37m\u001b[0m \u001b[1m0s\u001b[0m 48ms/step\n"
     ]
    }
   ],
   "source": [
    "predictions = []\n",
    "\n",
    "\n",
    "for index, row in test.iterrows():\n",
    "    data = row[\"full_text\"]\n",
    "    data = vect.transform([data])\n",
    "    pred = model.predict(data)\n",
    "    predicted_class = np.argmax(pred)\n",
    "    \n",
    "    \n",
    "    prediction = predicted_class + 1\n",
    "    \n",
    "    predictions.append(prediction)\n",
    "\n",
    "\n",
    "test['score'] = predictions\n"
   ]
  },
  {
   "cell_type": "code",
   "execution_count": 25,
   "id": "d06eea81",
   "metadata": {
    "execution": {
     "iopub.execute_input": "2024-05-25T16:40:59.515975Z",
     "iopub.status.busy": "2024-05-25T16:40:59.515570Z",
     "iopub.status.idle": "2024-05-25T16:40:59.527843Z",
     "shell.execute_reply": "2024-05-25T16:40:59.526559Z"
    },
    "papermill": {
     "duration": 0.455516,
     "end_time": "2024-05-25T16:40:59.530959",
     "exception": false,
     "start_time": "2024-05-25T16:40:59.075443",
     "status": "completed"
    },
    "tags": []
   },
   "outputs": [
    {
     "data": {
      "text/html": [
       "<div>\n",
       "<style scoped>\n",
       "    .dataframe tbody tr th:only-of-type {\n",
       "        vertical-align: middle;\n",
       "    }\n",
       "\n",
       "    .dataframe tbody tr th {\n",
       "        vertical-align: top;\n",
       "    }\n",
       "\n",
       "    .dataframe thead th {\n",
       "        text-align: right;\n",
       "    }\n",
       "</style>\n",
       "<table border=\"1\" class=\"dataframe\">\n",
       "  <thead>\n",
       "    <tr style=\"text-align: right;\">\n",
       "      <th></th>\n",
       "      <th>essay_id</th>\n",
       "      <th>full_text</th>\n",
       "      <th>score</th>\n",
       "    </tr>\n",
       "  </thead>\n",
       "  <tbody>\n",
       "    <tr>\n",
       "      <th>0</th>\n",
       "      <td>000d118</td>\n",
       "      <td>many people have car where they live the thing...</td>\n",
       "      <td>1</td>\n",
       "    </tr>\n",
       "    <tr>\n",
       "      <th>1</th>\n",
       "      <td>000fe60</td>\n",
       "      <td>i am a scientist at nasa that is discussing th...</td>\n",
       "      <td>3</td>\n",
       "    </tr>\n",
       "    <tr>\n",
       "      <th>2</th>\n",
       "      <td>001ab80</td>\n",
       "      <td>people always wish they had the same technolog...</td>\n",
       "      <td>4</td>\n",
       "    </tr>\n",
       "  </tbody>\n",
       "</table>\n",
       "</div>"
      ],
      "text/plain": [
       "  essay_id                                          full_text  score\n",
       "0  000d118  many people have car where they live the thing...      1\n",
       "1  000fe60  i am a scientist at nasa that is discussing th...      3\n",
       "2  001ab80  people always wish they had the same technolog...      4"
      ]
     },
     "execution_count": 25,
     "metadata": {},
     "output_type": "execute_result"
    }
   ],
   "source": [
    "test.head()"
   ]
  },
  {
   "cell_type": "code",
   "execution_count": 26,
   "id": "16a06e5b",
   "metadata": {
    "execution": {
     "iopub.execute_input": "2024-05-25T16:41:00.485206Z",
     "iopub.status.busy": "2024-05-25T16:41:00.484814Z",
     "iopub.status.idle": "2024-05-25T16:41:00.508200Z",
     "shell.execute_reply": "2024-05-25T16:41:00.506597Z"
    },
    "papermill": {
     "duration": 0.468642,
     "end_time": "2024-05-25T16:41:00.512029",
     "exception": false,
     "start_time": "2024-05-25T16:41:00.043387",
     "status": "completed"
    },
    "tags": []
   },
   "outputs": [
    {
     "data": {
      "text/html": [
       "<div>\n",
       "<style scoped>\n",
       "    .dataframe tbody tr th:only-of-type {\n",
       "        vertical-align: middle;\n",
       "    }\n",
       "\n",
       "    .dataframe tbody tr th {\n",
       "        vertical-align: top;\n",
       "    }\n",
       "\n",
       "    .dataframe thead th {\n",
       "        text-align: right;\n",
       "    }\n",
       "</style>\n",
       "<table border=\"1\" class=\"dataframe\">\n",
       "  <thead>\n",
       "    <tr style=\"text-align: right;\">\n",
       "      <th></th>\n",
       "      <th>essay_id</th>\n",
       "      <th>score</th>\n",
       "    </tr>\n",
       "  </thead>\n",
       "  <tbody>\n",
       "    <tr>\n",
       "      <th>0</th>\n",
       "      <td>000d118</td>\n",
       "      <td>1</td>\n",
       "    </tr>\n",
       "    <tr>\n",
       "      <th>1</th>\n",
       "      <td>000fe60</td>\n",
       "      <td>3</td>\n",
       "    </tr>\n",
       "    <tr>\n",
       "      <th>2</th>\n",
       "      <td>001ab80</td>\n",
       "      <td>4</td>\n",
       "    </tr>\n",
       "  </tbody>\n",
       "</table>\n",
       "</div>"
      ],
      "text/plain": [
       "  essay_id  score\n",
       "0  000d118      1\n",
       "1  000fe60      3\n",
       "2  001ab80      4"
      ]
     },
     "execution_count": 26,
     "metadata": {},
     "output_type": "execute_result"
    }
   ],
   "source": [
    "submission = test[['essay_id', 'score']]\n",
    "submission.to_csv('submission.csv', index=False)\n",
    "submission.head()"
   ]
  },
  {
   "cell_type": "markdown",
   "id": "4961556a",
   "metadata": {
    "papermill": {
     "duration": 0.433214,
     "end_time": "2024-05-25T16:41:01.394573",
     "exception": false,
     "start_time": "2024-05-25T16:41:00.961359",
     "status": "completed"
    },
    "tags": []
   },
   "source": [
    "In thid project I tried to predict the score of three essays. But the important thing is that without machine learning model, reading and scoring three articles is a very hard task. Also people spend their time to score essays. But with machine learning model, it is very easy and fast."
   ]
  },
  {
   "cell_type": "code",
   "execution_count": null,
   "id": "40ed1644",
   "metadata": {},
   "outputs": [],
   "source": []
  }
 ],
 "metadata": {
  "kaggle": {
   "accelerator": "none",
   "dataSources": [
    {
     "databundleVersionId": 8059942,
     "sourceId": 71485,
     "sourceType": "competition"
    }
   ],
   "dockerImageVersionId": 30698,
   "isGpuEnabled": false,
   "isInternetEnabled": false,
   "language": "python",
   "sourceType": "notebook"
  },
  "kernelspec": {
   "display_name": "Python 3 (ipykernel)",
   "language": "python",
   "name": "python3"
  },
  "language_info": {
   "codemirror_mode": {
    "name": "ipython",
    "version": 3
   },
   "file_extension": ".py",
   "mimetype": "text/x-python",
   "name": "python",
   "nbconvert_exporter": "python",
   "pygments_lexer": "ipython3",
   "version": "3.11.5"
  },
  "papermill": {
   "default_parameters": {},
   "duration": 2778.527434,
   "end_time": "2024-05-25T16:41:04.616363",
   "environment_variables": {},
   "exception": null,
   "input_path": "__notebook__.ipynb",
   "output_path": "__notebook__.ipynb",
   "parameters": {},
   "start_time": "2024-05-25T15:54:46.088929",
   "version": "2.5.0"
  }
 },
 "nbformat": 4,
 "nbformat_minor": 5
}
